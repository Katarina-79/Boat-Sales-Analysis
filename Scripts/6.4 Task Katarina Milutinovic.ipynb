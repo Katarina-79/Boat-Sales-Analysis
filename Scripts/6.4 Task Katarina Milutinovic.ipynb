{
 "cells": [
  {
   "cell_type": "markdown",
   "id": "18cb8040",
   "metadata": {},
   "source": [
    "# 1. Import Libraries and Data"
   ]
  },
  {
   "cell_type": "code",
   "execution_count": 2,
   "id": "057b5271",
   "metadata": {},
   "outputs": [],
   "source": [
    "import pandas as pd\n",
    "import numpy as np\n",
    "import seaborn as sns\n",
    "import matplotlib\n",
    "import matplotlib.pyplot as plt\n",
    "import os\n",
    "import sklearn\n",
    "from sklearn.model_selection import train_test_split \n",
    "from sklearn.linear_model import LinearRegression\n",
    "from sklearn.metrics import mean_squared_error, r2_score"
   ]
  },
  {
   "cell_type": "code",
   "execution_count": 3,
   "id": "16b70b4d",
   "metadata": {},
   "outputs": [],
   "source": [
    "%matplotlib inline"
   ]
  },
  {
   "cell_type": "code",
   "execution_count": 4,
   "id": "0215289b",
   "metadata": {},
   "outputs": [],
   "source": [
    "path = r'C:\\Users\\kamil\\Documents\\6 Advanced Analytics & Dashboard Design\\1'"
   ]
  },
  {
   "cell_type": "code",
   "execution_count": 5,
   "id": "9fec2189",
   "metadata": {},
   "outputs": [],
   "source": [
    "df = pd.read_csv(os.path.join(path,'boat_data_cleaned.csv'), index_col = False)"
   ]
  },
  {
   "cell_type": "code",
   "execution_count": 6,
   "id": "b3f3bb8e",
   "metadata": {},
   "outputs": [
    {
     "data": {
      "text/html": [
       "<div>\n",
       "<style scoped>\n",
       "    .dataframe tbody tr th:only-of-type {\n",
       "        vertical-align: middle;\n",
       "    }\n",
       "\n",
       "    .dataframe tbody tr th {\n",
       "        vertical-align: top;\n",
       "    }\n",
       "\n",
       "    .dataframe thead th {\n",
       "        text-align: right;\n",
       "    }\n",
       "</style>\n",
       "<table border=\"1\" class=\"dataframe\">\n",
       "  <thead>\n",
       "    <tr style=\"text-align: right;\">\n",
       "      <th></th>\n",
       "      <th>Unnamed: 0</th>\n",
       "      <th>Boat Type</th>\n",
       "      <th>Manufacturer</th>\n",
       "      <th>Type</th>\n",
       "      <th>Year Built</th>\n",
       "      <th>Length</th>\n",
       "      <th>Width</th>\n",
       "      <th>Material</th>\n",
       "      <th>Number of views last 7 days</th>\n",
       "      <th>EUR_price</th>\n",
       "      <th>Country</th>\n",
       "      <th>City</th>\n",
       "    </tr>\n",
       "  </thead>\n",
       "  <tbody>\n",
       "    <tr>\n",
       "      <th>0</th>\n",
       "      <td>1</td>\n",
       "      <td>Center console boat</td>\n",
       "      <td>Terhi power boats</td>\n",
       "      <td>new boat from stock</td>\n",
       "      <td>2020</td>\n",
       "      <td>4.00</td>\n",
       "      <td>1.50</td>\n",
       "      <td>Thermoplastic</td>\n",
       "      <td>75</td>\n",
       "      <td>3490.0</td>\n",
       "      <td>Germany</td>\n",
       "      <td>BÃ¶nningstedt</td>\n",
       "    </tr>\n",
       "    <tr>\n",
       "      <th>1</th>\n",
       "      <td>4</td>\n",
       "      <td>Fishing Boat</td>\n",
       "      <td>Linder power boats</td>\n",
       "      <td>new boat from stock</td>\n",
       "      <td>2019</td>\n",
       "      <td>3.55</td>\n",
       "      <td>1.46</td>\n",
       "      <td>Aluminium</td>\n",
       "      <td>58</td>\n",
       "      <td>3399.0</td>\n",
       "      <td>Germany</td>\n",
       "      <td>Bayern</td>\n",
       "    </tr>\n",
       "    <tr>\n",
       "      <th>2</th>\n",
       "      <td>10</td>\n",
       "      <td>Fishing Boat</td>\n",
       "      <td>Terhi power boats</td>\n",
       "      <td>Used boat,Electric</td>\n",
       "      <td>1987</td>\n",
       "      <td>4.35</td>\n",
       "      <td>1.75</td>\n",
       "      <td>GRP</td>\n",
       "      <td>239</td>\n",
       "      <td>3570.0</td>\n",
       "      <td>Switzerland</td>\n",
       "      <td>Seengen</td>\n",
       "    </tr>\n",
       "    <tr>\n",
       "      <th>3</th>\n",
       "      <td>12</td>\n",
       "      <td>Sport Boat</td>\n",
       "      <td>GS Nautica power boats</td>\n",
       "      <td>Used boat</td>\n",
       "      <td>2004</td>\n",
       "      <td>4.70</td>\n",
       "      <td>2.00</td>\n",
       "      <td>GRP</td>\n",
       "      <td>69</td>\n",
       "      <td>3500.0</td>\n",
       "      <td>Italy</td>\n",
       "      <td>Lake Garda</td>\n",
       "    </tr>\n",
       "    <tr>\n",
       "      <th>4</th>\n",
       "      <td>13</td>\n",
       "      <td>Runabout</td>\n",
       "      <td>Kimple power boats</td>\n",
       "      <td>new boat from stock</td>\n",
       "      <td>2020</td>\n",
       "      <td>4.40</td>\n",
       "      <td>1.65</td>\n",
       "      <td>Aluminium</td>\n",
       "      <td>113</td>\n",
       "      <td>4692.0</td>\n",
       "      <td>Switzerland</td>\n",
       "      <td>Zugersee</td>\n",
       "    </tr>\n",
       "  </tbody>\n",
       "</table>\n",
       "</div>"
      ],
      "text/plain": [
       "   Unnamed: 0            Boat Type            Manufacturer  \\\n",
       "0           1  Center console boat       Terhi power boats   \n",
       "1           4         Fishing Boat      Linder power boats   \n",
       "2          10         Fishing Boat       Terhi power boats   \n",
       "3          12           Sport Boat  GS Nautica power boats   \n",
       "4          13             Runabout      Kimple power boats   \n",
       "\n",
       "                  Type  Year Built  Length  Width       Material  \\\n",
       "0  new boat from stock        2020    4.00   1.50  Thermoplastic   \n",
       "1  new boat from stock        2019    3.55   1.46      Aluminium   \n",
       "2   Used boat,Electric        1987    4.35   1.75            GRP   \n",
       "3            Used boat        2004    4.70   2.00            GRP   \n",
       "4  new boat from stock        2020    4.40   1.65      Aluminium   \n",
       "\n",
       "   Number of views last 7 days  EUR_price       Country            City  \n",
       "0                           75     3490.0      Germany    BÃ¶nningstedt  \n",
       "1                           58     3399.0      Germany          Bayern   \n",
       "2                          239     3570.0  Switzerland          Seengen  \n",
       "3                           69     3500.0        Italy      Lake Garda   \n",
       "4                          113     4692.0  Switzerland        Zugersee   "
      ]
     },
     "execution_count": 6,
     "metadata": {},
     "output_type": "execute_result"
    }
   ],
   "source": [
    "df.head()"
   ]
  },
  {
   "cell_type": "code",
   "execution_count": 7,
   "id": "8d2e9ee5",
   "metadata": {},
   "outputs": [],
   "source": [
    "# Drop the redundant columns\n",
    "df = df.drop(['Unnamed: 0'],axis = 1)"
   ]
  },
  {
   "cell_type": "markdown",
   "id": "326dfb8c",
   "metadata": {},
   "source": [
    "# 2. Cleaning data"
   ]
  },
  {
   "cell_type": "code",
   "execution_count": 8,
   "id": "73ed7fe5",
   "metadata": {},
   "outputs": [
    {
     "data": {
      "text/plain": [
       "Index(['Boat Type', 'Manufacturer', 'Type', 'Year Built', 'Length', 'Width',\n",
       "       'Material', 'Number of views last 7 days', 'EUR_price', 'Country',\n",
       "       'City'],\n",
       "      dtype='object')"
      ]
     },
     "execution_count": 8,
     "metadata": {},
     "output_type": "execute_result"
    }
   ],
   "source": [
    "df.columns"
   ]
  },
  {
   "cell_type": "code",
   "execution_count": 9,
   "id": "aef400bf",
   "metadata": {},
   "outputs": [],
   "source": [
    "# Rename the columns.\n",
    "df.rename(columns = {'Number of views last 7 days':'7days_views'}, inplace = True)"
   ]
  },
  {
   "cell_type": "code",
   "execution_count": 10,
   "id": "0c8dd650",
   "metadata": {},
   "outputs": [
    {
     "data": {
      "text/plain": [
       "Index(['Boat Type', 'Manufacturer', 'Type', 'Year Built', 'Length', 'Width',\n",
       "       'Material', '7days_views', 'EUR_price', 'Country', 'City'],\n",
       "      dtype='object')"
      ]
     },
     "execution_count": 10,
     "metadata": {},
     "output_type": "execute_result"
    }
   ],
   "source": [
    "df.columns"
   ]
  },
  {
   "cell_type": "code",
   "execution_count": 11,
   "id": "848a6da0",
   "metadata": {},
   "outputs": [
    {
     "data": {
      "text/plain": [
       "(6001, 11)"
      ]
     },
     "execution_count": 11,
     "metadata": {},
     "output_type": "execute_result"
    }
   ],
   "source": [
    "df.shape"
   ]
  },
  {
   "cell_type": "code",
   "execution_count": 12,
   "id": "48e9d9e9",
   "metadata": {},
   "outputs": [
    {
     "data": {
      "text/plain": [
       "Boat Type       0\n",
       "Manufacturer    0\n",
       "Type            0\n",
       "Year Built      0\n",
       "Length          0\n",
       "Width           0\n",
       "Material        0\n",
       "7days_views     0\n",
       "EUR_price       0\n",
       "Country         0\n",
       "City            0\n",
       "dtype: int64"
      ]
     },
     "execution_count": 12,
     "metadata": {},
     "output_type": "execute_result"
    }
   ],
   "source": [
    "# check for missing values\n",
    "df.isnull().sum()"
   ]
  },
  {
   "cell_type": "code",
   "execution_count": 13,
   "id": "be23319a",
   "metadata": {},
   "outputs": [],
   "source": [
    "# check for duplicates\n",
    "dups = df.duplicated()"
   ]
  },
  {
   "cell_type": "code",
   "execution_count": 14,
   "id": "8b48332b",
   "metadata": {},
   "outputs": [
    {
     "data": {
      "text/plain": [
       "(6001,)"
      ]
     },
     "execution_count": 14,
     "metadata": {},
     "output_type": "execute_result"
    }
   ],
   "source": [
    "dups.shape\n"
   ]
  },
  {
   "cell_type": "markdown",
   "id": "8eac172a",
   "metadata": {},
   "source": [
    "### Extreme value check"
   ]
  },
  {
   "cell_type": "code",
   "execution_count": 15,
   "id": "2599f4b7",
   "metadata": {},
   "outputs": [
    {
     "name": "stderr",
     "output_type": "stream",
     "text": [
      "C:\\Users\\kamil\\anaconda3\\lib\\site-packages\\seaborn\\distributions.py:2619: FutureWarning: `distplot` is a deprecated function and will be removed in a future version. Please adapt your code to use either `displot` (a figure-level function with similar flexibility) or `histplot` (an axes-level function for histograms).\n",
      "  warnings.warn(msg, FutureWarning)\n"
     ]
    },
    {
     "data": {
      "text/plain": [
       "<AxesSubplot:xlabel='Length', ylabel='Density'>"
      ]
     },
     "execution_count": 15,
     "metadata": {},
     "output_type": "execute_result"
    },
    {
     "data": {
      "image/png": "[encoded data removed]",
      "text/plain": [
       "<Figure size 432x288 with 1 Axes>"
      ]
     },
     "metadata": {
      "needs_background": "light"
     },
     "output_type": "display_data"
    }
   ],
   "source": [
    "# extreme value check\n",
    "sns.distplot(df['Length'], bins=30) # Shows extreme values"
   ]
  },
  {
   "cell_type": "code",
   "execution_count": 16,
   "id": "dc048aae",
   "metadata": {},
   "outputs": [
    {
     "data": {
      "text/plain": [
       "10.834530911514786"
      ]
     },
     "execution_count": 16,
     "metadata": {},
     "output_type": "execute_result"
    }
   ],
   "source": [
    "df['Length'].mean()#check for mean"
   ]
  },
  {
   "cell_type": "code",
   "execution_count": 17,
   "id": "6421cea0",
   "metadata": {},
   "outputs": [
    {
     "data": {
      "text/plain": [
       "9.88"
      ]
     },
     "execution_count": 17,
     "metadata": {},
     "output_type": "execute_result"
    }
   ],
   "source": [
    "df['Length'].median() #check for median"
   ]
  },
  {
   "cell_type": "code",
   "execution_count": 18,
   "id": "b8b36913",
   "metadata": {},
   "outputs": [
    {
     "data": {
      "text/plain": [
       "56.0"
      ]
     },
     "execution_count": 18,
     "metadata": {},
     "output_type": "execute_result"
    }
   ],
   "source": [
    "df['Length'].max() #check for max"
   ]
  },
  {
   "cell_type": "markdown",
   "id": "1654a76c",
   "metadata": {},
   "source": [
    "# 3. Data prep for regression analysis"
   ]
  },
  {
   "cell_type": "code",
   "execution_count": 19,
   "id": "36fe5c9d",
   "metadata": {},
   "outputs": [
    {
     "data": {
      "image/png": "[encoded data removed]",
      "text/plain": [
       "<Figure size 432x288 with 1 Axes>"
      ]
     },
     "metadata": {
      "needs_background": "light"
     },
     "output_type": "display_data"
    }
   ],
   "source": [
    "# Create a scatterplot using matplotlib for another look at how the chosen variables plot against each other.\n",
    "\n",
    "df.plot(x = 'Length', y='EUR_price',style='o') # The style option creates a scatterplot; without it, we only have lines.\n",
    "plt.title('Length of boat vs Price')  \n",
    "plt.xlabel('Length')  \n",
    "plt.ylabel('Price in Euro')  \n",
    "plt.show()"
   ]
  },
  {
   "cell_type": "code",
   "execution_count": 20,
   "id": "16058c91",
   "metadata": {},
   "outputs": [],
   "source": [
    "# Reshape the variables into NumPy arrays and put them into separate objects.\n",
    "\n",
    "X = df['Length'].values.reshape(-1,1)\n",
    "y = df['EUR_price'].values.reshape(-1,1)"
   ]
  },
  {
   "cell_type": "code",
   "execution_count": 21,
   "id": "259fc33b",
   "metadata": {},
   "outputs": [
    {
     "data": {
      "text/plain": [
       "array([[4.  ],\n",
       "       [3.55],\n",
       "       [4.35],\n",
       "       ...,\n",
       "       [6.  ],\n",
       "       [4.4 ],\n",
       "       [3.6 ]])"
      ]
     },
     "execution_count": 21,
     "metadata": {},
     "output_type": "execute_result"
    }
   ],
   "source": [
    "X"
   ]
  },
  {
   "cell_type": "code",
   "execution_count": 22,
   "id": "8a658fcc",
   "metadata": {},
   "outputs": [
    {
     "data": {
      "text/plain": [
       "array([[3490. ],\n",
       "       [3399. ],\n",
       "       [3570. ],\n",
       "       ...,\n",
       "       [5049. ],\n",
       "       [4499. ],\n",
       "       [3855.6]])"
      ]
     },
     "execution_count": 22,
     "metadata": {},
     "output_type": "execute_result"
    }
   ],
   "source": [
    "y"
   ]
  },
  {
   "cell_type": "code",
   "execution_count": 23,
   "id": "ae52177a",
   "metadata": {},
   "outputs": [],
   "source": [
    "# Split data into a training set and a test set.\n",
    "\n",
    "X_train, X_test, y_train, y_test = train_test_split(X, y, test_size=0.3, random_state=0)\n"
   ]
  },
  {
   "cell_type": "markdown",
   "id": "8165af1d",
   "metadata": {},
   "source": [
    "# Hypothesis"
   ]
  },
  {
   "cell_type": "markdown",
   "id": "b98037f5",
   "metadata": {},
   "source": [
    "#### The higher the length of the boat, the higher the price"
   ]
  },
  {
   "cell_type": "markdown",
   "id": "167b8bed",
   "metadata": {},
   "source": [
    "# 4. Regression analysis"
   ]
  },
  {
   "cell_type": "code",
   "execution_count": 24,
   "id": "798a5ae8",
   "metadata": {},
   "outputs": [],
   "source": [
    "regression = LinearRegression()"
   ]
  },
  {
   "cell_type": "code",
   "execution_count": 25,
   "id": "4406635a",
   "metadata": {},
   "outputs": [
    {
     "data": {
      "text/plain": [
       "LinearRegression()"
      ]
     },
     "execution_count": 25,
     "metadata": {},
     "output_type": "execute_result"
    }
   ],
   "source": [
    "regression.fit(X_train, y_train)"
   ]
  },
  {
   "cell_type": "code",
   "execution_count": 26,
   "id": "928b53e8",
   "metadata": {},
   "outputs": [],
   "source": [
    "# Predict the values of y using X.\n",
    "\n",
    "y_predicted = regression.predict(X_test)"
   ]
  },
  {
   "cell_type": "code",
   "execution_count": 27,
   "id": "7627aade",
   "metadata": {},
   "outputs": [
    {
     "data": {
      "image/png": "[encoded data removed]",
      "text/plain": [
       "<Figure size 432x288 with 1 Axes>"
      ]
     },
     "metadata": {
      "needs_background": "light"
     },
     "output_type": "display_data"
    }
   ],
   "source": [
    "# Create a plot that shows the regression line from the model on the test set.\n",
    "\n",
    "plot_test = plt\n",
    "plot_test.scatter(X_test, y_test, color='gray', s = 15)\n",
    "plot_test.plot(X_test, y_predicted, color='red', linewidth =3)\n",
    "plot_test.title('Length of boat vs Price (Test set)')\n",
    "plot_test.xlabel('Length of boat')\n",
    "plot_test.ylabel('Price in EUR')\n",
    "plot_test.show()"
   ]
  },
  {
   "cell_type": "code",
   "execution_count": 28,
   "id": "fcf8ca6c",
   "metadata": {},
   "outputs": [],
   "source": [
    "# Create objects that contain the model summary statistics.\n",
    "\n",
    "rmse = mean_squared_error(y_test, y_predicted) # This is the mean squared error\n",
    "r2 = r2_score(y_test, y_predicted)"
   ]
  },
  {
   "cell_type": "code",
   "execution_count": 29,
   "id": "1bd3448b",
   "metadata": {},
   "outputs": [
    {
     "name": "stdout",
     "output_type": "stream",
     "text": [
      "Slope: [[87129.53602373]]\n",
      "Mean squared error:  188101017128.7506\n",
      "R2 score:  0.37527128064359916\n"
     ]
    }
   ],
   "source": [
    "# Print the model summary statistics. This is where you evaluate the performance of the model.\n",
    "\n",
    "print('Slope:' ,regression.coef_)\n",
    "print('Mean squared error: ', rmse)\n",
    "print('R2 score: ', r2)"
   ]
  },
  {
   "cell_type": "markdown",
   "id": "3c9c5d28",
   "metadata": {},
   "source": [
    "#### Findings\n",
    "\n",
    "The slope value is positive, which means that the relationship between Price and Lenght of the boat are positive. This aligns with the hypothesis that the higher the boat length, the higher the price. The MSE value is high, so the regression line is not at all a representation of the data. Also, the R2 score is 0.38 which represents a poor fit."
   ]
  },
  {
   "cell_type": "code",
   "execution_count": 30,
   "id": "6e92f7b6",
   "metadata": {},
   "outputs": [
    {
     "data": {
      "text/plain": [
       "array([[ 193273.23711307],\n",
       "       [-143918.06729877],\n",
       "       [ 209827.84895758],\n",
       "       ...,\n",
       "       [-137818.99977711],\n",
       "       [  10301.21146324],\n",
       "       [  -4510.8096608 ]])"
      ]
     },
     "execution_count": 30,
     "metadata": {},
     "output_type": "execute_result"
    }
   ],
   "source": [
    "y_predicted"
   ]
  },
  {
   "cell_type": "code",
   "execution_count": 31,
   "id": "4b2b8112",
   "metadata": {},
   "outputs": [
    {
     "data": {
      "text/html": [
       "<div>\n",
       "<style scoped>\n",
       "    .dataframe tbody tr th:only-of-type {\n",
       "        vertical-align: middle;\n",
       "    }\n",
       "\n",
       "    .dataframe tbody tr th {\n",
       "        vertical-align: top;\n",
       "    }\n",
       "\n",
       "    .dataframe thead th {\n",
       "        text-align: right;\n",
       "    }\n",
       "</style>\n",
       "<table border=\"1\" class=\"dataframe\">\n",
       "  <thead>\n",
       "    <tr style=\"text-align: right;\">\n",
       "      <th></th>\n",
       "      <th>Actual</th>\n",
       "      <th>Predicted</th>\n",
       "    </tr>\n",
       "  </thead>\n",
       "  <tbody>\n",
       "    <tr>\n",
       "      <th>0</th>\n",
       "      <td>69900.0</td>\n",
       "      <td>1.932732e+05</td>\n",
       "    </tr>\n",
       "    <tr>\n",
       "      <th>1</th>\n",
       "      <td>55998.0</td>\n",
       "      <td>-1.439181e+05</td>\n",
       "    </tr>\n",
       "    <tr>\n",
       "      <th>2</th>\n",
       "      <td>90000.0</td>\n",
       "      <td>2.098278e+05</td>\n",
       "    </tr>\n",
       "    <tr>\n",
       "      <th>3</th>\n",
       "      <td>38900.0</td>\n",
       "      <td>7.564836e+04</td>\n",
       "    </tr>\n",
       "    <tr>\n",
       "      <th>4</th>\n",
       "      <td>150000.0</td>\n",
       "      <td>-5.765983e+04</td>\n",
       "    </tr>\n",
       "    <tr>\n",
       "      <th>5</th>\n",
       "      <td>187000.0</td>\n",
       "      <td>8.871779e+04</td>\n",
       "    </tr>\n",
       "    <tr>\n",
       "      <th>6</th>\n",
       "      <td>34500.0</td>\n",
       "      <td>-8.466998e+04</td>\n",
       "    </tr>\n",
       "    <tr>\n",
       "      <th>7</th>\n",
       "      <td>575000.0</td>\n",
       "      <td>1.147342e+06</td>\n",
       "    </tr>\n",
       "    <tr>\n",
       "      <th>8</th>\n",
       "      <td>99890.0</td>\n",
       "      <td>1.030121e+04</td>\n",
       "    </tr>\n",
       "    <tr>\n",
       "      <th>9</th>\n",
       "      <td>15500.0</td>\n",
       "      <td>-9.861071e+04</td>\n",
       "    </tr>\n",
       "    <tr>\n",
       "      <th>10</th>\n",
       "      <td>99000.0</td>\n",
       "      <td>7.564836e+04</td>\n",
       "    </tr>\n",
       "    <tr>\n",
       "      <th>11</th>\n",
       "      <td>350000.0</td>\n",
       "      <td>7.726847e+05</td>\n",
       "    </tr>\n",
       "    <tr>\n",
       "      <th>12</th>\n",
       "      <td>105000.0</td>\n",
       "      <td>6.519282e+04</td>\n",
       "    </tr>\n",
       "    <tr>\n",
       "      <th>13</th>\n",
       "      <td>19990.0</td>\n",
       "      <td>-2.667707e+05</td>\n",
       "    </tr>\n",
       "    <tr>\n",
       "      <th>14</th>\n",
       "      <td>44900.0</td>\n",
       "      <td>-1.508884e+05</td>\n",
       "    </tr>\n",
       "    <tr>\n",
       "      <th>15</th>\n",
       "      <td>80325.0</td>\n",
       "      <td>-2.193672e+04</td>\n",
       "    </tr>\n",
       "    <tr>\n",
       "      <th>16</th>\n",
       "      <td>72000.0</td>\n",
       "      <td>2.150556e+05</td>\n",
       "    </tr>\n",
       "    <tr>\n",
       "      <th>17</th>\n",
       "      <td>66990.0</td>\n",
       "      <td>-8.989775e+04</td>\n",
       "    </tr>\n",
       "    <tr>\n",
       "      <th>18</th>\n",
       "      <td>49980.0</td>\n",
       "      <td>-5.853112e+04</td>\n",
       "    </tr>\n",
       "    <tr>\n",
       "      <th>19</th>\n",
       "      <td>245000.0</td>\n",
       "      <td>4.503054e+05</td>\n",
       "    </tr>\n",
       "    <tr>\n",
       "      <th>20</th>\n",
       "      <td>51000.0</td>\n",
       "      <td>7.564836e+04</td>\n",
       "    </tr>\n",
       "    <tr>\n",
       "      <th>21</th>\n",
       "      <td>78000.0</td>\n",
       "      <td>3.091555e+05</td>\n",
       "    </tr>\n",
       "    <tr>\n",
       "      <th>22</th>\n",
       "      <td>69500.0</td>\n",
       "      <td>5.008405e+05</td>\n",
       "    </tr>\n",
       "    <tr>\n",
       "      <th>23</th>\n",
       "      <td>45900.0</td>\n",
       "      <td>-5.765983e+04</td>\n",
       "    </tr>\n",
       "    <tr>\n",
       "      <th>24</th>\n",
       "      <td>177900.0</td>\n",
       "      <td>5.984256e+05</td>\n",
       "    </tr>\n",
       "    <tr>\n",
       "      <th>25</th>\n",
       "      <td>23970.0</td>\n",
       "      <td>-1.839977e+05</td>\n",
       "    </tr>\n",
       "    <tr>\n",
       "      <th>26</th>\n",
       "      <td>275000.0</td>\n",
       "      <td>5.923265e+05</td>\n",
       "    </tr>\n",
       "    <tr>\n",
       "      <th>27</th>\n",
       "      <td>25398.0</td>\n",
       "      <td>9.743075e+04</td>\n",
       "    </tr>\n",
       "    <tr>\n",
       "      <th>28</th>\n",
       "      <td>59000.0</td>\n",
       "      <td>3.117694e+05</td>\n",
       "    </tr>\n",
       "    <tr>\n",
       "      <th>29</th>\n",
       "      <td>58500.0</td>\n",
       "      <td>-4.284781e+04</td>\n",
       "    </tr>\n",
       "  </tbody>\n",
       "</table>\n",
       "</div>"
      ],
      "text/plain": [
       "      Actual     Predicted\n",
       "0    69900.0  1.932732e+05\n",
       "1    55998.0 -1.439181e+05\n",
       "2    90000.0  2.098278e+05\n",
       "3    38900.0  7.564836e+04\n",
       "4   150000.0 -5.765983e+04\n",
       "5   187000.0  8.871779e+04\n",
       "6    34500.0 -8.466998e+04\n",
       "7   575000.0  1.147342e+06\n",
       "8    99890.0  1.030121e+04\n",
       "9    15500.0 -9.861071e+04\n",
       "10   99000.0  7.564836e+04\n",
       "11  350000.0  7.726847e+05\n",
       "12  105000.0  6.519282e+04\n",
       "13   19990.0 -2.667707e+05\n",
       "14   44900.0 -1.508884e+05\n",
       "15   80325.0 -2.193672e+04\n",
       "16   72000.0  2.150556e+05\n",
       "17   66990.0 -8.989775e+04\n",
       "18   49980.0 -5.853112e+04\n",
       "19  245000.0  4.503054e+05\n",
       "20   51000.0  7.564836e+04\n",
       "21   78000.0  3.091555e+05\n",
       "22   69500.0  5.008405e+05\n",
       "23   45900.0 -5.765983e+04\n",
       "24  177900.0  5.984256e+05\n",
       "25   23970.0 -1.839977e+05\n",
       "26  275000.0  5.923265e+05\n",
       "27   25398.0  9.743075e+04\n",
       "28   59000.0  3.117694e+05\n",
       "29   58500.0 -4.284781e+04"
      ]
     },
     "execution_count": 31,
     "metadata": {},
     "output_type": "execute_result"
    }
   ],
   "source": [
    "# Create a dataframe comparing the actual and predicted values of y.\n",
    "\n",
    "data = pd.DataFrame({'Actual': y_test.flatten(), 'Predicted': y_predicted.flatten()})\n",
    "data.head(30)"
   ]
  },
  {
   "cell_type": "markdown",
   "id": "1465ce89",
   "metadata": {},
   "source": [
    "### How the regression fits the training set"
   ]
  },
  {
   "cell_type": "code",
   "execution_count": 32,
   "id": "fb8aa8ff",
   "metadata": {},
   "outputs": [],
   "source": [
    "# Predict.\n",
    "\n",
    "y_predicted_train = regression.predict(X_train) # This is predicting X_train!"
   ]
  },
  {
   "cell_type": "code",
   "execution_count": 33,
   "id": "0341fe29",
   "metadata": {},
   "outputs": [],
   "source": [
    "rmse = mean_squared_error(y_train, y_predicted_train)\n",
    "r2 = r2_score(y_train, y_predicted_train)"
   ]
  },
  {
   "cell_type": "code",
   "execution_count": 34,
   "id": "df0ef9de",
   "metadata": {},
   "outputs": [
    {
     "name": "stdout",
     "output_type": "stream",
     "text": [
      "Slope: [[87129.53602373]]\n",
      "Mean squared error:  271297129629.1697\n",
      "R2 score:  0.39990074365591677\n"
     ]
    }
   ],
   "source": [
    "print('Slope:' ,regression.coef_)\n",
    "print('Mean squared error: ', rmse)\n",
    "print('R2 score: ', r2)"
   ]
  },
  {
   "cell_type": "markdown",
   "id": "d728c211",
   "metadata": {},
   "source": [
    "### Findings:\n"
   ]
  },
  {
   "cell_type": "markdown",
   "id": "6e34e2fb",
   "metadata": {},
   "source": [
    "#### The values are very close to the model - positive relationship, high MSE values and a low R2. \n",
    "\n",
    "#### This is an indication that the length of the boat is not a good determinant of the cost of the boat. This is true findings because in reality there are other important factors that would be considered in determining the value of a boat. "
   ]
  },
  {
   "cell_type": "code",
   "execution_count": 35,
   "id": "0a805f65",
   "metadata": {},
   "outputs": [
    {
     "data": {
      "image/png": "[encoded data removed]",
      "text/plain": [
       "<Figure size 432x288 with 1 Axes>"
      ]
     },
     "metadata": {
      "needs_background": "light"
     },
     "output_type": "display_data"
    }
   ],
   "source": [
    "plot_test = plt\n",
    "plot_test.scatter(X_train, y_train, color='green', s = 15)\n",
    "plot_test.plot(X_train, y_predicted_train, color='red', linewidth =3)\n",
    "plot_test.title('Lenght of boat vs Price(Train set)')\n",
    "plot_test.xlabel('Length of boat')\n",
    "plot_test.ylabel('Price in EUR')\n",
    "plot_test.show()"
   ]
  },
  {
   "cell_type": "markdown",
   "id": "2807d9fe",
   "metadata": {},
   "source": [
    "### Bonus: performance improvement after removing outliers"
   ]
  },
  {
   "cell_type": "code",
   "execution_count": 36,
   "id": "313b07f7",
   "metadata": {},
   "outputs": [],
   "source": [
    "# Clean the extreme values from the \"Price per Unit\" variable observed during the consistency checks.\n",
    "\n",
    "df_test = df[df['EUR_price'] <=20000000]"
   ]
  },
  {
   "cell_type": "code",
   "execution_count": 37,
   "id": "d44613f9",
   "metadata": {},
   "outputs": [
    {
     "data": {
      "image/png": "[encoded data removed]",
      "text/plain": [
       "<Figure size 432x288 with 1 Axes>"
      ]
     },
     "metadata": {
      "needs_background": "light"
     },
     "output_type": "display_data"
    }
   ],
   "source": [
    "# See how the scatterplot looks without outliers.\n",
    "\n",
    "df_test.plot(x = 'Length', y='EUR_price',style='o')\n",
    "plt.title('Length of boat vs Price')  \n",
    "plt.xlabel('Length')  \n",
    "plt.ylabel('Price in Euro')  \n",
    "plt.show()"
   ]
  },
  {
   "cell_type": "code",
   "execution_count": 38,
   "id": "335e63f4",
   "metadata": {},
   "outputs": [],
   "source": [
    "# Reshape the variables into NumPy arrays and put them into separate objects.\n",
    "\n",
    "X_2 = df_test['Length'].values.reshape(-1,1)\n",
    "y_2 = df_test['EUR_price'].values.reshape(-1,1)"
   ]
  },
  {
   "cell_type": "code",
   "execution_count": 39,
   "id": "2c781c85",
   "metadata": {},
   "outputs": [],
   "source": [
    "X_train_2, X_test_2, y_train_2, y_test_2 = train_test_split(X_2, y_2, test_size=0.3, random_state=0)"
   ]
  },
  {
   "cell_type": "code",
   "execution_count": 40,
   "id": "9a0ebdb8",
   "metadata": {},
   "outputs": [
    {
     "data": {
      "text/plain": [
       "LinearRegression()"
      ]
     },
     "execution_count": 40,
     "metadata": {},
     "output_type": "execute_result"
    }
   ],
   "source": [
    "# Run and fit the regression.\n",
    "\n",
    "regression = LinearRegression()  \n",
    "regression.fit(X_train_2, y_train_2)"
   ]
  },
  {
   "cell_type": "code",
   "execution_count": 41,
   "id": "a3a9bca4",
   "metadata": {},
   "outputs": [],
   "source": [
    "# Predict.\n",
    "\n",
    "y_predicted_2 = regression.predict(X_test_2)"
   ]
  },
  {
   "cell_type": "code",
   "execution_count": 42,
   "id": "cd43a5f3",
   "metadata": {},
   "outputs": [],
   "source": [
    "rmse = mean_squared_error(y_test_2, y_predicted_2)\n",
    "r2 = r2_score(y_test_2, y_predicted_2)"
   ]
  },
  {
   "cell_type": "code",
   "execution_count": 43,
   "id": "ee72f482",
   "metadata": {},
   "outputs": [
    {
     "name": "stdout",
     "output_type": "stream",
     "text": [
      "Slope: [[76090.45628899]]\n",
      "Mean squared error:  184063984464.70312\n",
      "R2 score:  0.41589522161289905\n"
     ]
    }
   ],
   "source": [
    "print('Slope:' ,regression.coef_)\n",
    "print('Mean squared error: ', rmse)\n",
    "print('R2 score: ', r2)"
   ]
  },
  {
   "cell_type": "code",
   "execution_count": 44,
   "id": "c4c63bdd",
   "metadata": {},
   "outputs": [
    {
     "data": {
      "image/png": "[encoded data removed]",
      "text/plain": [
       "<Figure size 432x288 with 1 Axes>"
      ]
     },
     "metadata": {
      "needs_background": "light"
     },
     "output_type": "display_data"
    }
   ],
   "source": [
    "plot_test = plt\n",
    "plot_test.scatter(X_test_2, y_test_2, color='green', s = 15)\n",
    "plot_test.plot(X_test_2, y_predicted_2, color='red', linewidth =3)\n",
    "plot_test.title('Lenght of boat vs Price(Train set)')\n",
    "plot_test.xlabel('Length of boat')\n",
    "plot_test.ylabel('Price in EUR')\n",
    "plot_test.show()"
   ]
  },
  {
   "cell_type": "code",
   "execution_count": 45,
   "id": "be060cd1",
   "metadata": {},
   "outputs": [
    {
     "data": {
      "text/html": [
       "<div>\n",
       "<style scoped>\n",
       "    .dataframe tbody tr th:only-of-type {\n",
       "        vertical-align: middle;\n",
       "    }\n",
       "\n",
       "    .dataframe tbody tr th {\n",
       "        vertical-align: top;\n",
       "    }\n",
       "\n",
       "    .dataframe thead th {\n",
       "        text-align: right;\n",
       "    }\n",
       "</style>\n",
       "<table border=\"1\" class=\"dataframe\">\n",
       "  <thead>\n",
       "    <tr style=\"text-align: right;\">\n",
       "      <th></th>\n",
       "      <th>Actual</th>\n",
       "      <th>Predicted</th>\n",
       "    </tr>\n",
       "  </thead>\n",
       "  <tbody>\n",
       "    <tr>\n",
       "      <th>0</th>\n",
       "      <td>69900.00</td>\n",
       "      <td>193272.695417</td>\n",
       "    </tr>\n",
       "    <tr>\n",
       "      <th>1</th>\n",
       "      <td>1250000.00</td>\n",
       "      <td>919936.552977</td>\n",
       "    </tr>\n",
       "    <tr>\n",
       "      <th>2</th>\n",
       "      <td>18995.00</td>\n",
       "      <td>52505.351282</td>\n",
       "    </tr>\n",
       "    <tr>\n",
       "      <th>3</th>\n",
       "      <td>38900.00</td>\n",
       "      <td>90550.579427</td>\n",
       "    </tr>\n",
       "    <tr>\n",
       "      <th>4</th>\n",
       "      <td>150000.00</td>\n",
       "      <td>-25867.818696</td>\n",
       "    </tr>\n",
       "    <tr>\n",
       "      <th>5</th>\n",
       "      <td>187000.00</td>\n",
       "      <td>101964.147870</td>\n",
       "    </tr>\n",
       "    <tr>\n",
       "      <th>6</th>\n",
       "      <td>17338.98</td>\n",
       "      <td>-213811.245729</td>\n",
       "    </tr>\n",
       "    <tr>\n",
       "      <th>7</th>\n",
       "      <td>145000.00</td>\n",
       "      <td>254145.060448</td>\n",
       "    </tr>\n",
       "    <tr>\n",
       "      <th>8</th>\n",
       "      <td>99890.00</td>\n",
       "      <td>33482.737210</td>\n",
       "    </tr>\n",
       "    <tr>\n",
       "      <th>9</th>\n",
       "      <td>15500.00</td>\n",
       "      <td>-61630.333151</td>\n",
       "    </tr>\n",
       "    <tr>\n",
       "      <th>10</th>\n",
       "      <td>99000.00</td>\n",
       "      <td>90550.579427</td>\n",
       "    </tr>\n",
       "    <tr>\n",
       "      <th>11</th>\n",
       "      <td>61098.00</td>\n",
       "      <td>-114893.652554</td>\n",
       "    </tr>\n",
       "    <tr>\n",
       "      <th>12</th>\n",
       "      <td>105000.00</td>\n",
       "      <td>81419.724672</td>\n",
       "    </tr>\n",
       "    <tr>\n",
       "      <th>13</th>\n",
       "      <td>1301814.00</td>\n",
       "      <td>715253.225559</td>\n",
       "    </tr>\n",
       "    <tr>\n",
       "      <th>14</th>\n",
       "      <td>44900.00</td>\n",
       "      <td>-107284.606925</td>\n",
       "    </tr>\n",
       "    <tr>\n",
       "      <th>15</th>\n",
       "      <td>80325.00</td>\n",
       "      <td>5329.268383</td>\n",
       "    </tr>\n",
       "    <tr>\n",
       "      <th>16</th>\n",
       "      <td>72000.00</td>\n",
       "      <td>212295.309489</td>\n",
       "    </tr>\n",
       "    <tr>\n",
       "      <th>17</th>\n",
       "      <td>66990.00</td>\n",
       "      <td>-54021.287522</td>\n",
       "    </tr>\n",
       "    <tr>\n",
       "      <th>18</th>\n",
       "      <td>88000.00</td>\n",
       "      <td>303603.857036</td>\n",
       "    </tr>\n",
       "    <tr>\n",
       "      <th>19</th>\n",
       "      <td>45990.00</td>\n",
       "      <td>-160547.926327</td>\n",
       "    </tr>\n",
       "    <tr>\n",
       "      <th>20</th>\n",
       "      <td>385380.00</td>\n",
       "      <td>280015.815586</td>\n",
       "    </tr>\n",
       "    <tr>\n",
       "      <th>21</th>\n",
       "      <td>78000.00</td>\n",
       "      <td>294473.002281</td>\n",
       "    </tr>\n",
       "    <tr>\n",
       "      <th>22</th>\n",
       "      <td>69500.00</td>\n",
       "      <td>461872.006117</td>\n",
       "    </tr>\n",
       "    <tr>\n",
       "      <th>23</th>\n",
       "      <td>45900.00</td>\n",
       "      <td>-25867.818696</td>\n",
       "    </tr>\n",
       "    <tr>\n",
       "      <th>24</th>\n",
       "      <td>9990.00</td>\n",
       "      <td>-15976.059378</td>\n",
       "    </tr>\n",
       "    <tr>\n",
       "      <th>25</th>\n",
       "      <td>73440.00</td>\n",
       "      <td>27395.500707</td>\n",
       "    </tr>\n",
       "    <tr>\n",
       "      <th>26</th>\n",
       "      <td>9990.00</td>\n",
       "      <td>-15976.059378</td>\n",
       "    </tr>\n",
       "    <tr>\n",
       "      <th>27</th>\n",
       "      <td>25398.00</td>\n",
       "      <td>109573.193499</td>\n",
       "    </tr>\n",
       "    <tr>\n",
       "      <th>28</th>\n",
       "      <td>59000.00</td>\n",
       "      <td>296755.715970</td>\n",
       "    </tr>\n",
       "    <tr>\n",
       "      <th>29</th>\n",
       "      <td>279000.00</td>\n",
       "      <td>639923.673833</td>\n",
       "    </tr>\n",
       "  </tbody>\n",
       "</table>\n",
       "</div>"
      ],
      "text/plain": [
       "        Actual      Predicted\n",
       "0     69900.00  193272.695417\n",
       "1   1250000.00  919936.552977\n",
       "2     18995.00   52505.351282\n",
       "3     38900.00   90550.579427\n",
       "4    150000.00  -25867.818696\n",
       "5    187000.00  101964.147870\n",
       "6     17338.98 -213811.245729\n",
       "7    145000.00  254145.060448\n",
       "8     99890.00   33482.737210\n",
       "9     15500.00  -61630.333151\n",
       "10    99000.00   90550.579427\n",
       "11    61098.00 -114893.652554\n",
       "12   105000.00   81419.724672\n",
       "13  1301814.00  715253.225559\n",
       "14    44900.00 -107284.606925\n",
       "15    80325.00    5329.268383\n",
       "16    72000.00  212295.309489\n",
       "17    66990.00  -54021.287522\n",
       "18    88000.00  303603.857036\n",
       "19    45990.00 -160547.926327\n",
       "20   385380.00  280015.815586\n",
       "21    78000.00  294473.002281\n",
       "22    69500.00  461872.006117\n",
       "23    45900.00  -25867.818696\n",
       "24     9990.00  -15976.059378\n",
       "25    73440.00   27395.500707\n",
       "26     9990.00  -15976.059378\n",
       "27    25398.00  109573.193499\n",
       "28    59000.00  296755.715970\n",
       "29   279000.00  639923.673833"
      ]
     },
     "execution_count": 45,
     "metadata": {},
     "output_type": "execute_result"
    }
   ],
   "source": [
    "data = pd.DataFrame({'Actual': y_test_2.flatten(), 'Predicted': y_predicted_2.flatten()})\n",
    "data.head(30)"
   ]
  },
  {
   "cell_type": "markdown",
   "id": "d0bfbfde",
   "metadata": {},
   "source": [
    "### Findings: \n",
    "\n",
    "### After removing outliners we obtained slightly better values of R2. This indicates that when we remove outliners, we obtain slightly better results"
   ]
  },
  {
   "cell_type": "code",
   "execution_count": null,
   "id": "cd69f474",
   "metadata": {},
   "outputs": [],
   "source": []
  }
 ],
 "metadata": {
  "kernelspec": {
   "display_name": "Python 3 (ipykernel)",
   "language": "python",
   "name": "python3"
  },
  "language_info": {
   "codemirror_mode": {
    "name": "ipython",
    "version": 3
   },
   "file_extension": ".py",
   "mimetype": "text/x-python",
   "name": "python",
   "nbconvert_exporter": "python",
   "pygments_lexer": "ipython3",
   "version": "3.9.12"
  }
 },
 "nbformat": 4,
 "nbformat_minor": 5
}
