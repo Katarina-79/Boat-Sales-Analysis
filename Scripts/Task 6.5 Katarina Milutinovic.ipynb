{
 "cells": [
  {
   "cell_type": "markdown",
   "id": "2b623859",
   "metadata": {},
   "source": [
    "# 1. Importing libraries and data and renaming columns"
   ]
  },
  {
   "cell_type": "code",
   "execution_count": 1,
   "id": "694164b2",
   "metadata": {},
   "outputs": [],
   "source": [
    "import pandas as pd\n",
    "import numpy as np\n",
    "import seaborn as sns\n",
    "import matplotlib\n",
    "import matplotlib.pyplot as plt\n",
    "import os\n",
    "import sklearn\n",
    "from sklearn.cluster import KMeans # Here is where you import the k-means algorithm from scikit-learn.\n",
    "import pylab as pl # PyLab is a convenience module that bulk imports matplotlib.\n",
    "from sklearn.preprocessing import StandardScaler"
   ]
  },
  {
   "cell_type": "code",
   "execution_count": 2,
   "id": "7150eaa2",
   "metadata": {},
   "outputs": [],
   "source": [
    "%matplotlib inline"
   ]
  },
  {
   "cell_type": "code",
   "execution_count": 3,
   "id": "e07b255d",
   "metadata": {},
   "outputs": [],
   "source": [
    "path = r'C:\\Users\\kamil\\Documents\\6 Advanced Analytics & Dashboard Design'"
   ]
  },
  {
   "cell_type": "code",
   "execution_count": 4,
   "id": "18819ee2",
   "metadata": {},
   "outputs": [],
   "source": [
    "df = pd.read_csv(os.path.join(path, '1', 'boat_data_cleaned.csv'))"
   ]
  },
  {
   "cell_type": "code",
   "execution_count": 5,
   "id": "7b03ed97",
   "metadata": {},
   "outputs": [
    {
     "data": {
      "text/html": [
       "<div>\n",
       "<style scoped>\n",
       "    .dataframe tbody tr th:only-of-type {\n",
       "        vertical-align: middle;\n",
       "    }\n",
       "\n",
       "    .dataframe tbody tr th {\n",
       "        vertical-align: top;\n",
       "    }\n",
       "\n",
       "    .dataframe thead th {\n",
       "        text-align: right;\n",
       "    }\n",
       "</style>\n",
       "<table border=\"1\" class=\"dataframe\">\n",
       "  <thead>\n",
       "    <tr style=\"text-align: right;\">\n",
       "      <th></th>\n",
       "      <th>Unnamed: 0</th>\n",
       "      <th>Boat Type</th>\n",
       "      <th>Manufacturer</th>\n",
       "      <th>Type</th>\n",
       "      <th>Year Built</th>\n",
       "      <th>Length</th>\n",
       "      <th>Width</th>\n",
       "      <th>Material</th>\n",
       "      <th>Number of views last 7 days</th>\n",
       "      <th>EUR_price</th>\n",
       "      <th>Country</th>\n",
       "      <th>City</th>\n",
       "    </tr>\n",
       "  </thead>\n",
       "  <tbody>\n",
       "    <tr>\n",
       "      <th>0</th>\n",
       "      <td>1</td>\n",
       "      <td>Center console boat</td>\n",
       "      <td>Terhi power boats</td>\n",
       "      <td>new boat from stock</td>\n",
       "      <td>2020</td>\n",
       "      <td>4.00</td>\n",
       "      <td>1.50</td>\n",
       "      <td>Thermoplastic</td>\n",
       "      <td>75</td>\n",
       "      <td>3490.00</td>\n",
       "      <td>Germany</td>\n",
       "      <td>BÃ¶nningstedt</td>\n",
       "    </tr>\n",
       "    <tr>\n",
       "      <th>1</th>\n",
       "      <td>4</td>\n",
       "      <td>Fishing Boat</td>\n",
       "      <td>Linder power boats</td>\n",
       "      <td>new boat from stock</td>\n",
       "      <td>2019</td>\n",
       "      <td>3.55</td>\n",
       "      <td>1.46</td>\n",
       "      <td>Aluminium</td>\n",
       "      <td>58</td>\n",
       "      <td>3399.00</td>\n",
       "      <td>Germany</td>\n",
       "      <td>Bayern</td>\n",
       "    </tr>\n",
       "    <tr>\n",
       "      <th>2</th>\n",
       "      <td>10</td>\n",
       "      <td>Fishing Boat</td>\n",
       "      <td>Terhi power boats</td>\n",
       "      <td>Used boat,Electric</td>\n",
       "      <td>1987</td>\n",
       "      <td>4.35</td>\n",
       "      <td>1.75</td>\n",
       "      <td>GRP</td>\n",
       "      <td>239</td>\n",
       "      <td>3570.00</td>\n",
       "      <td>Switzerland</td>\n",
       "      <td>Seengen</td>\n",
       "    </tr>\n",
       "    <tr>\n",
       "      <th>3</th>\n",
       "      <td>12</td>\n",
       "      <td>Sport Boat</td>\n",
       "      <td>GS Nautica power boats</td>\n",
       "      <td>Used boat</td>\n",
       "      <td>2004</td>\n",
       "      <td>4.70</td>\n",
       "      <td>2.00</td>\n",
       "      <td>GRP</td>\n",
       "      <td>69</td>\n",
       "      <td>3500.00</td>\n",
       "      <td>Italy</td>\n",
       "      <td>Lake Garda</td>\n",
       "    </tr>\n",
       "    <tr>\n",
       "      <th>4</th>\n",
       "      <td>13</td>\n",
       "      <td>Runabout</td>\n",
       "      <td>Kimple power boats</td>\n",
       "      <td>new boat from stock</td>\n",
       "      <td>2020</td>\n",
       "      <td>4.40</td>\n",
       "      <td>1.65</td>\n",
       "      <td>Aluminium</td>\n",
       "      <td>113</td>\n",
       "      <td>4692.00</td>\n",
       "      <td>Switzerland</td>\n",
       "      <td>Zugersee</td>\n",
       "    </tr>\n",
       "    <tr>\n",
       "      <th>...</th>\n",
       "      <td>...</td>\n",
       "      <td>...</td>\n",
       "      <td>...</td>\n",
       "      <td>...</td>\n",
       "      <td>...</td>\n",
       "      <td>...</td>\n",
       "      <td>...</td>\n",
       "      <td>...</td>\n",
       "      <td>...</td>\n",
       "      <td>...</td>\n",
       "      <td>...</td>\n",
       "      <td>...</td>\n",
       "    </tr>\n",
       "    <tr>\n",
       "      <th>5996</th>\n",
       "      <td>9877</td>\n",
       "      <td>Cabin Boat</td>\n",
       "      <td>Princess power boats</td>\n",
       "      <td>Used boat</td>\n",
       "      <td>1974</td>\n",
       "      <td>7.20</td>\n",
       "      <td>2.70</td>\n",
       "      <td>GRP</td>\n",
       "      <td>1299</td>\n",
       "      <td>5100.00</td>\n",
       "      <td>Switzerland</td>\n",
       "      <td>Rhein</td>\n",
       "    </tr>\n",
       "    <tr>\n",
       "      <th>5997</th>\n",
       "      <td>9878</td>\n",
       "      <td>Sport Boat,Wakeboard/Wakesurf,Water ski</td>\n",
       "      <td>Tullio Abbate power boats</td>\n",
       "      <td>Used boat,Unleaded</td>\n",
       "      <td>1980</td>\n",
       "      <td>6.00</td>\n",
       "      <td>2.10</td>\n",
       "      <td>GRP</td>\n",
       "      <td>1917</td>\n",
       "      <td>5098.98</td>\n",
       "      <td>Switzerland</td>\n",
       "      <td>Lake of Zurich</td>\n",
       "    </tr>\n",
       "    <tr>\n",
       "      <th>5998</th>\n",
       "      <td>9882</td>\n",
       "      <td>Fishing Boat</td>\n",
       "      <td>Staempfli power boats</td>\n",
       "      <td>Used boat,Unleaded</td>\n",
       "      <td>1984</td>\n",
       "      <td>6.00</td>\n",
       "      <td>1.62</td>\n",
       "      <td>Plastic</td>\n",
       "      <td>288</td>\n",
       "      <td>5049.00</td>\n",
       "      <td>Switzerland</td>\n",
       "      <td>Bielersee</td>\n",
       "    </tr>\n",
       "    <tr>\n",
       "      <th>5999</th>\n",
       "      <td>9885</td>\n",
       "      <td>Sport Boat</td>\n",
       "      <td>BlueCraft power boats</td>\n",
       "      <td>new boat from stock,Unleaded</td>\n",
       "      <td>2020</td>\n",
       "      <td>4.40</td>\n",
       "      <td>1.80</td>\n",
       "      <td>GRP</td>\n",
       "      <td>354</td>\n",
       "      <td>4499.00</td>\n",
       "      <td>Germany</td>\n",
       "      <td>Nordrhein-Westfalen</td>\n",
       "    </tr>\n",
       "    <tr>\n",
       "      <th>6000</th>\n",
       "      <td>9887</td>\n",
       "      <td>Fishing Boat</td>\n",
       "      <td>DarekCo power boats</td>\n",
       "      <td>new boat from stock</td>\n",
       "      <td>2019</td>\n",
       "      <td>3.60</td>\n",
       "      <td>1.60</td>\n",
       "      <td>GRP</td>\n",
       "      <td>194</td>\n",
       "      <td>3855.60</td>\n",
       "      <td>Switzerland</td>\n",
       "      <td>Brienzersee</td>\n",
       "    </tr>\n",
       "  </tbody>\n",
       "</table>\n",
       "<p>6001 rows × 12 columns</p>\n",
       "</div>"
      ],
      "text/plain": [
       "      Unnamed: 0                                Boat Type  \\\n",
       "0              1                      Center console boat   \n",
       "1              4                             Fishing Boat   \n",
       "2             10                             Fishing Boat   \n",
       "3             12                               Sport Boat   \n",
       "4             13                                 Runabout   \n",
       "...          ...                                      ...   \n",
       "5996        9877                               Cabin Boat   \n",
       "5997        9878  Sport Boat,Wakeboard/Wakesurf,Water ski   \n",
       "5998        9882                             Fishing Boat   \n",
       "5999        9885                               Sport Boat   \n",
       "6000        9887                             Fishing Boat   \n",
       "\n",
       "                   Manufacturer                          Type  Year Built  \\\n",
       "0             Terhi power boats           new boat from stock        2020   \n",
       "1            Linder power boats           new boat from stock        2019   \n",
       "2             Terhi power boats            Used boat,Electric        1987   \n",
       "3        GS Nautica power boats                     Used boat        2004   \n",
       "4            Kimple power boats           new boat from stock        2020   \n",
       "...                         ...                           ...         ...   \n",
       "5996       Princess power boats                     Used boat        1974   \n",
       "5997  Tullio Abbate power boats            Used boat,Unleaded        1980   \n",
       "5998      Staempfli power boats            Used boat,Unleaded        1984   \n",
       "5999      BlueCraft power boats  new boat from stock,Unleaded        2020   \n",
       "6000        DarekCo power boats           new boat from stock        2019   \n",
       "\n",
       "      Length  Width       Material  Number of views last 7 days  EUR_price  \\\n",
       "0       4.00   1.50  Thermoplastic                           75    3490.00   \n",
       "1       3.55   1.46      Aluminium                           58    3399.00   \n",
       "2       4.35   1.75            GRP                          239    3570.00   \n",
       "3       4.70   2.00            GRP                           69    3500.00   \n",
       "4       4.40   1.65      Aluminium                          113    4692.00   \n",
       "...      ...    ...            ...                          ...        ...   \n",
       "5996    7.20   2.70            GRP                         1299    5100.00   \n",
       "5997    6.00   2.10            GRP                         1917    5098.98   \n",
       "5998    6.00   1.62        Plastic                          288    5049.00   \n",
       "5999    4.40   1.80            GRP                          354    4499.00   \n",
       "6000    3.60   1.60            GRP                          194    3855.60   \n",
       "\n",
       "           Country                   City  \n",
       "0         Germany           BÃ¶nningstedt  \n",
       "1         Germany                 Bayern   \n",
       "2     Switzerland                 Seengen  \n",
       "3           Italy             Lake Garda   \n",
       "4     Switzerland               Zugersee   \n",
       "...            ...                    ...  \n",
       "5996  Switzerland                  Rhein   \n",
       "5997  Switzerland         Lake of Zurich   \n",
       "5998  Switzerland              Bielersee   \n",
       "5999      Germany    Nordrhein-Westfalen   \n",
       "6000  Switzerland            Brienzersee   \n",
       "\n",
       "[6001 rows x 12 columns]"
      ]
     },
     "execution_count": 5,
     "metadata": {},
     "output_type": "execute_result"
    }
   ],
   "source": [
    "df"
   ]
  },
  {
   "cell_type": "markdown",
   "id": "b6134bcb",
   "metadata": {},
   "source": [
    "## Data Cleaning"
   ]
  },
  {
   "cell_type": "code",
   "execution_count": 6,
   "id": "a9ae68d4",
   "metadata": {},
   "outputs": [],
   "source": [
    "# Drop the redundant columns\n",
    "df1 = df.drop(['Unnamed: 0'],axis = 1)"
   ]
  },
  {
   "cell_type": "code",
   "execution_count": 7,
   "id": "870031c0",
   "metadata": {},
   "outputs": [],
   "source": [
    "# Rename the columns.\n",
    "df1.rename(columns = {'Number of views last 7 days':'7days_views'}, inplace = True)"
   ]
  },
  {
   "cell_type": "code",
   "execution_count": 8,
   "id": "8510d059",
   "metadata": {},
   "outputs": [],
   "source": [
    "df = df1[['Length','Width','7days_views','EUR_price']]"
   ]
  },
  {
   "cell_type": "code",
   "execution_count": 9,
   "id": "41dbcdc7",
   "metadata": {},
   "outputs": [
    {
     "data": {
      "text/html": [
       "<div>\n",
       "<style scoped>\n",
       "    .dataframe tbody tr th:only-of-type {\n",
       "        vertical-align: middle;\n",
       "    }\n",
       "\n",
       "    .dataframe tbody tr th {\n",
       "        vertical-align: top;\n",
       "    }\n",
       "\n",
       "    .dataframe thead th {\n",
       "        text-align: right;\n",
       "    }\n",
       "</style>\n",
       "<table border=\"1\" class=\"dataframe\">\n",
       "  <thead>\n",
       "    <tr style=\"text-align: right;\">\n",
       "      <th></th>\n",
       "      <th>Length</th>\n",
       "      <th>Width</th>\n",
       "      <th>7days_views</th>\n",
       "      <th>EUR_price</th>\n",
       "    </tr>\n",
       "  </thead>\n",
       "  <tbody>\n",
       "    <tr>\n",
       "      <th>0</th>\n",
       "      <td>4.00</td>\n",
       "      <td>1.50</td>\n",
       "      <td>75</td>\n",
       "      <td>3490.00</td>\n",
       "    </tr>\n",
       "    <tr>\n",
       "      <th>1</th>\n",
       "      <td>3.55</td>\n",
       "      <td>1.46</td>\n",
       "      <td>58</td>\n",
       "      <td>3399.00</td>\n",
       "    </tr>\n",
       "    <tr>\n",
       "      <th>2</th>\n",
       "      <td>4.35</td>\n",
       "      <td>1.75</td>\n",
       "      <td>239</td>\n",
       "      <td>3570.00</td>\n",
       "    </tr>\n",
       "    <tr>\n",
       "      <th>3</th>\n",
       "      <td>4.70</td>\n",
       "      <td>2.00</td>\n",
       "      <td>69</td>\n",
       "      <td>3500.00</td>\n",
       "    </tr>\n",
       "    <tr>\n",
       "      <th>4</th>\n",
       "      <td>4.40</td>\n",
       "      <td>1.65</td>\n",
       "      <td>113</td>\n",
       "      <td>4692.00</td>\n",
       "    </tr>\n",
       "    <tr>\n",
       "      <th>...</th>\n",
       "      <td>...</td>\n",
       "      <td>...</td>\n",
       "      <td>...</td>\n",
       "      <td>...</td>\n",
       "    </tr>\n",
       "    <tr>\n",
       "      <th>5996</th>\n",
       "      <td>7.20</td>\n",
       "      <td>2.70</td>\n",
       "      <td>1299</td>\n",
       "      <td>5100.00</td>\n",
       "    </tr>\n",
       "    <tr>\n",
       "      <th>5997</th>\n",
       "      <td>6.00</td>\n",
       "      <td>2.10</td>\n",
       "      <td>1917</td>\n",
       "      <td>5098.98</td>\n",
       "    </tr>\n",
       "    <tr>\n",
       "      <th>5998</th>\n",
       "      <td>6.00</td>\n",
       "      <td>1.62</td>\n",
       "      <td>288</td>\n",
       "      <td>5049.00</td>\n",
       "    </tr>\n",
       "    <tr>\n",
       "      <th>5999</th>\n",
       "      <td>4.40</td>\n",
       "      <td>1.80</td>\n",
       "      <td>354</td>\n",
       "      <td>4499.00</td>\n",
       "    </tr>\n",
       "    <tr>\n",
       "      <th>6000</th>\n",
       "      <td>3.60</td>\n",
       "      <td>1.60</td>\n",
       "      <td>194</td>\n",
       "      <td>3855.60</td>\n",
       "    </tr>\n",
       "  </tbody>\n",
       "</table>\n",
       "<p>6001 rows × 4 columns</p>\n",
       "</div>"
      ],
      "text/plain": [
       "      Length  Width  7days_views  EUR_price\n",
       "0       4.00   1.50           75    3490.00\n",
       "1       3.55   1.46           58    3399.00\n",
       "2       4.35   1.75          239    3570.00\n",
       "3       4.70   2.00           69    3500.00\n",
       "4       4.40   1.65          113    4692.00\n",
       "...      ...    ...          ...        ...\n",
       "5996    7.20   2.70         1299    5100.00\n",
       "5997    6.00   2.10         1917    5098.98\n",
       "5998    6.00   1.62          288    5049.00\n",
       "5999    4.40   1.80          354    4499.00\n",
       "6000    3.60   1.60          194    3855.60\n",
       "\n",
       "[6001 rows x 4 columns]"
      ]
     },
     "execution_count": 9,
     "metadata": {},
     "output_type": "execute_result"
    }
   ],
   "source": [
    "df"
   ]
  },
  {
   "cell_type": "markdown",
   "id": "33ae5788",
   "metadata": {},
   "source": [
    "# 2. Standardizing the data"
   ]
  },
  {
   "cell_type": "code",
   "execution_count": 11,
   "id": "007a8544",
   "metadata": {},
   "outputs": [
    {
     "name": "stdout",
     "output_type": "stream",
     "text": [
      "[[-1.41005333 -1.76743232 -0.52645641 -0.36246306]\n",
      " [-1.50289423 -1.8047781  -0.62569917 -0.36260574]\n",
      " [-1.33784374 -1.53402117  0.43094436 -0.36233764]\n",
      " ...\n",
      " [-0.99742711 -1.65539497  0.71699703 -0.36001879]\n",
      " [-1.32752808 -1.48733894  1.10229246 -0.3608811 ]\n",
      " [-1.49257857 -1.67406786  0.16824293 -0.36188986]]\n"
     ]
    }
   ],
   "source": [
    "# standazing the data\n",
    "scaler = StandardScaler()\n",
    "standardized_data = scaler.fit_transform(df)\n",
    "print(standardized_data)"
   ]
  },
  {
   "cell_type": "code",
   "execution_count": 12,
   "id": "af50f944",
   "metadata": {},
   "outputs": [
    {
     "name": "stdout",
     "output_type": "stream",
     "text": [
      "        Length     Width  7days_views  EUR_price\n",
      "0    -1.410053 -1.767432    -0.526456  -0.362463\n",
      "1    -1.502894 -1.804778    -0.625699  -0.362606\n",
      "2    -1.337844 -1.534021     0.430944  -0.362338\n",
      "3    -1.265634 -1.300610    -0.561483  -0.362447\n",
      "4    -1.327528 -1.627386    -0.304620  -0.360579\n",
      "...        ...       ...          ...        ...\n",
      "5996 -0.749851 -0.647059     6.619022  -0.359939\n",
      "5997 -0.997427 -1.207246    10.226789  -0.359940\n",
      "5998 -0.997427 -1.655395     0.716997  -0.360019\n",
      "5999 -1.327528 -1.487339     1.102292  -0.360881\n",
      "6000 -1.492579 -1.674068     0.168243  -0.361890\n",
      "\n",
      "[6001 rows x 4 columns]\n"
     ]
    }
   ],
   "source": [
    "# coverting to dataframe\n",
    "df = pd.DataFrame(standardized_data, columns=df.columns)\n",
    "print(df)"
   ]
  },
  {
   "cell_type": "markdown",
   "id": "c27717a4",
   "metadata": {},
   "source": [
    "## 3. The elbow technique"
   ]
  },
  {
   "cell_type": "code",
   "execution_count": 13,
   "id": "e6e00449",
   "metadata": {},
   "outputs": [],
   "source": [
    "num_cl = range(1, 10) # Defines the range of potential clusters in the data.\n",
    "kmeans = [KMeans(n_clusters=i) for i in num_cl] # Defines k-means clusters in the range assigned above."
   ]
  },
  {
   "cell_type": "code",
   "execution_count": 14,
   "id": "ceca1701",
   "metadata": {},
   "outputs": [],
   "source": [
    "score = [kmeans[i].fit(df).score(df) for i in range(len(kmeans))] # Creates a score that represents \n",
    "# a rate of variation for the given cluster option."
   ]
  },
  {
   "cell_type": "code",
   "execution_count": 15,
   "id": "a828fdff",
   "metadata": {},
   "outputs": [
    {
     "data": {
      "text/plain": [
       "[-24003.999999999996,\n",
       " -15675.35375033844,\n",
       " -11918.772196474665,\n",
       " -9074.402980667921,\n",
       " -7104.894033161085,\n",
       " -6077.695575086419,\n",
       " -5329.902499004418,\n",
       " -4612.462930738143,\n",
       " -4125.041469408063]"
      ]
     },
     "execution_count": 15,
     "metadata": {},
     "output_type": "execute_result"
    }
   ],
   "source": [
    "score "
   ]
  },
  {
   "cell_type": "code",
   "execution_count": 16,
   "id": "be9fff36",
   "metadata": {},
   "outputs": [
    {
     "data": {
      "image/png": "[encoded data removed]",
      "text/plain": [
       "<Figure size 432x288 with 1 Axes>"
      ]
     },
     "metadata": {
      "needs_background": "light"
     },
     "output_type": "display_data"
    }
   ],
   "source": [
    "# Plot the elbow curve using PyLab.\n",
    "\n",
    "pl.plot(num_cl,score)\n",
    "pl.xlabel('Number of Clusters')\n",
    "pl.ylabel('Score')\n",
    "pl.title('Elbow Curve')\n",
    "pl.show()"
   ]
  },
  {
   "cell_type": "markdown",
   "id": "fec85af7",
   "metadata": {},
   "source": [
    "#### It is noticed that after 5 noticable straightenning line occurs. Optimal count for cluster is five."
   ]
  },
  {
   "cell_type": "markdown",
   "id": "9ded9f58",
   "metadata": {},
   "source": [
    "# 4. k-means clustering"
   ]
  },
  {
   "cell_type": "code",
   "execution_count": 17,
   "id": "2985a121",
   "metadata": {},
   "outputs": [],
   "source": [
    "kmeans = KMeans(n_clusters = 5) "
   ]
  },
  {
   "cell_type": "code",
   "execution_count": 18,
   "id": "45f854dd",
   "metadata": {},
   "outputs": [
    {
     "data": {
      "text/plain": [
       "KMeans(n_clusters=5)"
      ]
     },
     "execution_count": 18,
     "metadata": {},
     "output_type": "execute_result"
    }
   ],
   "source": [
    "kmeans.fit(df)"
   ]
  },
  {
   "cell_type": "code",
   "execution_count": 19,
   "id": "6d06eb50",
   "metadata": {},
   "outputs": [],
   "source": [
    "df['clusters'] = kmeans.fit_predict(df)"
   ]
  },
  {
   "cell_type": "code",
   "execution_count": 21,
   "id": "983de443",
   "metadata": {},
   "outputs": [
    {
     "data": {
      "text/html": [
       "<div>\n",
       "<style scoped>\n",
       "    .dataframe tbody tr th:only-of-type {\n",
       "        vertical-align: middle;\n",
       "    }\n",
       "\n",
       "    .dataframe tbody tr th {\n",
       "        vertical-align: top;\n",
       "    }\n",
       "\n",
       "    .dataframe thead th {\n",
       "        text-align: right;\n",
       "    }\n",
       "</style>\n",
       "<table border=\"1\" class=\"dataframe\">\n",
       "  <thead>\n",
       "    <tr style=\"text-align: right;\">\n",
       "      <th></th>\n",
       "      <th>Length</th>\n",
       "      <th>Width</th>\n",
       "      <th>7days_views</th>\n",
       "      <th>EUR_price</th>\n",
       "      <th>clusters</th>\n",
       "    </tr>\n",
       "  </thead>\n",
       "  <tbody>\n",
       "    <tr>\n",
       "      <th>0</th>\n",
       "      <td>-1.410053</td>\n",
       "      <td>-1.767432</td>\n",
       "      <td>-0.526456</td>\n",
       "      <td>-0.362463</td>\n",
       "      <td>1</td>\n",
       "    </tr>\n",
       "    <tr>\n",
       "      <th>1</th>\n",
       "      <td>-1.502894</td>\n",
       "      <td>-1.804778</td>\n",
       "      <td>-0.625699</td>\n",
       "      <td>-0.362606</td>\n",
       "      <td>1</td>\n",
       "    </tr>\n",
       "    <tr>\n",
       "      <th>2</th>\n",
       "      <td>-1.337844</td>\n",
       "      <td>-1.534021</td>\n",
       "      <td>0.430944</td>\n",
       "      <td>-0.362338</td>\n",
       "      <td>1</td>\n",
       "    </tr>\n",
       "    <tr>\n",
       "      <th>3</th>\n",
       "      <td>-1.265634</td>\n",
       "      <td>-1.300610</td>\n",
       "      <td>-0.561483</td>\n",
       "      <td>-0.362447</td>\n",
       "      <td>1</td>\n",
       "    </tr>\n",
       "    <tr>\n",
       "      <th>4</th>\n",
       "      <td>-1.327528</td>\n",
       "      <td>-1.627386</td>\n",
       "      <td>-0.304620</td>\n",
       "      <td>-0.360579</td>\n",
       "      <td>1</td>\n",
       "    </tr>\n",
       "  </tbody>\n",
       "</table>\n",
       "</div>"
      ],
      "text/plain": [
       "     Length     Width  7days_views  EUR_price  clusters\n",
       "0 -1.410053 -1.767432    -0.526456  -0.362463         1\n",
       "1 -1.502894 -1.804778    -0.625699  -0.362606         1\n",
       "2 -1.337844 -1.534021     0.430944  -0.362338         1\n",
       "3 -1.265634 -1.300610    -0.561483  -0.362447         1\n",
       "4 -1.327528 -1.627386    -0.304620  -0.360579         1"
      ]
     },
     "execution_count": 21,
     "metadata": {},
     "output_type": "execute_result"
    }
   ],
   "source": [
    "df.head()"
   ]
  },
  {
   "cell_type": "code",
   "execution_count": 22,
   "id": "e12ad952",
   "metadata": {},
   "outputs": [
    {
     "data": {
      "text/plain": [
       "1    2917\n",
       "2    2236\n",
       "4     498\n",
       "0     320\n",
       "3      30\n",
       "Name: clusters, dtype: int64"
      ]
     },
     "execution_count": 22,
     "metadata": {},
     "output_type": "execute_result"
    }
   ],
   "source": [
    "df['clusters'].value_counts()"
   ]
  },
  {
   "cell_type": "code",
   "execution_count": 23,
   "id": "71926269",
   "metadata": {},
   "outputs": [
    {
     "data": {
      "image/png": "[encoded data removed]",
      "text/plain": [
       "<Figure size 864x576 with 1 Axes>"
      ]
     },
     "metadata": {
      "needs_background": "light"
     },
     "output_type": "display_data"
    }
   ],
   "source": [
    "# Plot the clusters for the \"EUR_price\" and \"Length\" variables.\n",
    "\n",
    "plt.figure(figsize=(12,8))\n",
    "ax = sns.scatterplot(x=df['Length'], y=df['EUR_price'], hue=kmeans.labels_, s=100) \n",
    "# Here, you're subsetting `X` for the x and y arguments to avoid using their labels. \n",
    "# `hue` takes the value of the attribute `kmeans.labels_`, which is the result of running the k-means algorithm.\n",
    "# `s` represents the size of the points you want to see in the plot.\n",
    "\n",
    "ax.grid(False) # This removes the grid from the background.\n",
    "plt.xlabel('Length of the boat') # Label x-axis.\n",
    "plt.ylabel('Price per boat') # Label y-axis.\n",
    "plt.show()"
   ]
  },
  {
   "cell_type": "code",
   "execution_count": 24,
   "id": "fcef12d7",
   "metadata": {},
   "outputs": [
    {
     "data": {
      "image/png": "[encoded data removed]",
      "text/plain": [
       "<Figure size 864x576 with 1 Axes>"
      ]
     },
     "metadata": {
      "needs_background": "light"
     },
     "output_type": "display_data"
    }
   ],
   "source": [
    "# Plot the clusters for the \"7days_views\" and \"EUR_price\" variables.\n",
    "\n",
    "plt.figure(figsize=(12,8))\n",
    "ax = sns.scatterplot(x=df['7days_views'], y=df['EUR_price'], hue=kmeans.labels_, s=100)\n",
    "\n",
    "ax.grid(False) \n",
    "plt.xlabel('7days_views') \n",
    "plt.ylabel('EUR_price') \n",
    "plt.show()"
   ]
  },
  {
   "cell_type": "markdown",
   "id": "8c434d8e",
   "metadata": {},
   "source": [
    "### The two graphs does not entirely makes sense or give a great insight to the relationship between the cost of the boat and either of the Length or Views of each boat. This gives a suggestion that there are other important factors that are inclusively and would all together be determinant of the boat price"
   ]
  },
  {
   "cell_type": "code",
   "execution_count": 29,
   "id": "ed0f7005",
   "metadata": {},
   "outputs": [],
   "source": [
    "df.loc[df['clusters'] == 4, 'cluster'] = 'dark purple'\n",
    "df.loc[df['clusters'] == 3, 'cluster'] = 'dent purple'\n",
    "df.loc[df['clusters'] == 2, 'cluster'] = 'purple'\n",
    "df.loc[df['clusters'] == 1, 'cluster'] = 'whitish purple'\n",
    "df.loc[df['clusters'] == 0, 'cluster'] = 'whitish pink'"
   ]
  },
  {
   "cell_type": "code",
   "execution_count": 30,
   "id": "585c3e72",
   "metadata": {},
   "outputs": [
    {
     "data": {
      "text/html": [
       "<div>\n",
       "<style scoped>\n",
       "    .dataframe tbody tr th:only-of-type {\n",
       "        vertical-align: middle;\n",
       "    }\n",
       "\n",
       "    .dataframe tbody tr th {\n",
       "        vertical-align: top;\n",
       "    }\n",
       "\n",
       "    .dataframe thead tr th {\n",
       "        text-align: left;\n",
       "    }\n",
       "\n",
       "    .dataframe thead tr:last-of-type th {\n",
       "        text-align: right;\n",
       "    }\n",
       "</style>\n",
       "<table border=\"1\" class=\"dataframe\">\n",
       "  <thead>\n",
       "    <tr>\n",
       "      <th></th>\n",
       "      <th colspan=\"2\" halign=\"left\">Length</th>\n",
       "      <th colspan=\"2\" halign=\"left\">Width</th>\n",
       "      <th colspan=\"2\" halign=\"left\">7days_views</th>\n",
       "      <th colspan=\"2\" halign=\"left\">EUR_price</th>\n",
       "    </tr>\n",
       "    <tr>\n",
       "      <th></th>\n",
       "      <th>mean</th>\n",
       "      <th>median</th>\n",
       "      <th>mean</th>\n",
       "      <th>median</th>\n",
       "      <th>mean</th>\n",
       "      <th>median</th>\n",
       "      <th>mean</th>\n",
       "      <th>median</th>\n",
       "    </tr>\n",
       "    <tr>\n",
       "      <th>cluster</th>\n",
       "      <th></th>\n",
       "      <th></th>\n",
       "      <th></th>\n",
       "      <th></th>\n",
       "      <th></th>\n",
       "      <th></th>\n",
       "      <th></th>\n",
       "      <th></th>\n",
       "    </tr>\n",
       "  </thead>\n",
       "  <tbody>\n",
       "    <tr>\n",
       "      <th>dark purple</th>\n",
       "      <td>2.101251</td>\n",
       "      <td>1.921903</td>\n",
       "      <td>1.912740</td>\n",
       "      <td>1.710394</td>\n",
       "      <td>-0.350853</td>\n",
       "      <td>-0.473916</td>\n",
       "      <td>1.219128</td>\n",
       "      <td>0.886187</td>\n",
       "    </tr>\n",
       "    <tr>\n",
       "      <th>dent purple</th>\n",
       "      <td>4.686912</td>\n",
       "      <td>4.116043</td>\n",
       "      <td>3.758810</td>\n",
       "      <td>3.451641</td>\n",
       "      <td>0.398253</td>\n",
       "      <td>-0.091540</td>\n",
       "      <td>10.398493</td>\n",
       "      <td>8.764783</td>\n",
       "    </tr>\n",
       "    <tr>\n",
       "      <th>purple</th>\n",
       "      <td>0.436039</td>\n",
       "      <td>0.394155</td>\n",
       "      <td>0.570095</td>\n",
       "      <td>0.566679</td>\n",
       "      <td>-0.298858</td>\n",
       "      <td>-0.395106</td>\n",
       "      <td>-0.025118</td>\n",
       "      <td>-0.081332</td>\n",
       "    </tr>\n",
       "    <tr>\n",
       "      <th>whitish pink</th>\n",
       "      <td>-0.531707</td>\n",
       "      <td>-0.646695</td>\n",
       "      <td>-0.549668</td>\n",
       "      <td>-0.749760</td>\n",
       "      <td>3.062702</td>\n",
       "      <td>2.427475</td>\n",
       "      <td>-0.241490</td>\n",
       "      <td>-0.310144</td>\n",
       "    </tr>\n",
       "    <tr>\n",
       "      <th>whitish purple</th>\n",
       "      <td>-0.682848</td>\n",
       "      <td>-0.692084</td>\n",
       "      <td>-0.741908</td>\n",
       "      <td>-0.787105</td>\n",
       "      <td>-0.051094</td>\n",
       "      <td>-0.170350</td>\n",
       "      <td>-0.269331</td>\n",
       "      <td>-0.292678</td>\n",
       "    </tr>\n",
       "  </tbody>\n",
       "</table>\n",
       "</div>"
      ],
      "text/plain": [
       "                  Length               Width           7days_views            \\\n",
       "                    mean    median      mean    median        mean    median   \n",
       "cluster                                                                        \n",
       "dark purple     2.101251  1.921903  1.912740  1.710394   -0.350853 -0.473916   \n",
       "dent purple     4.686912  4.116043  3.758810  3.451641    0.398253 -0.091540   \n",
       "purple          0.436039  0.394155  0.570095  0.566679   -0.298858 -0.395106   \n",
       "whitish pink   -0.531707 -0.646695 -0.549668 -0.749760    3.062702  2.427475   \n",
       "whitish purple -0.682848 -0.692084 -0.741908 -0.787105   -0.051094 -0.170350   \n",
       "\n",
       "                EUR_price            \n",
       "                     mean    median  \n",
       "cluster                              \n",
       "dark purple      1.219128  0.886187  \n",
       "dent purple     10.398493  8.764783  \n",
       "purple          -0.025118 -0.081332  \n",
       "whitish pink    -0.241490 -0.310144  \n",
       "whitish purple  -0.269331 -0.292678  "
      ]
     },
     "execution_count": 30,
     "metadata": {},
     "output_type": "execute_result"
    }
   ],
   "source": [
    "df.groupby('cluster').agg({'Length':['mean', 'median'], \n",
    "                         'Width':['mean', 'median'], \n",
    "                         '7days_views':['mean', 'median'],\n",
    "                          'EUR_price':['mean', 'median']})"
   ]
  },
  {
   "cell_type": "markdown",
   "id": "e649a353",
   "metadata": {},
   "source": [
    "###  The obtained data do not suggest a great influence on the relationship between the columns. However, the dent purple cluster has best statistics of the lots. The median number of lengths, width and price is highest and significantly larger than at  the other four. This shows that lenghth and width of the boat influence the boat size, and the bigger the boat is - the bigger the price is. Nevertheless, there are other important characteristics variables that could be considered  influencing the price of the boat. "
   ]
  },
  {
   "cell_type": "code",
   "execution_count": null,
   "id": "108c8ca9",
   "metadata": {},
   "outputs": [],
   "source": []
  }
 ],
 "metadata": {
  "kernelspec": {
   "display_name": "Python 3 (ipykernel)",
   "language": "python",
   "name": "python3"
  },
  "language_info": {
   "codemirror_mode": {
    "name": "ipython",
    "version": 3
   },
   "file_extension": ".py",
   "mimetype": "text/x-python",
   "name": "python",
   "nbconvert_exporter": "python",
   "pygments_lexer": "ipython3",
   "version": "3.9.12"
  }
 },
 "nbformat": 4,
 "nbformat_minor": 5
}
